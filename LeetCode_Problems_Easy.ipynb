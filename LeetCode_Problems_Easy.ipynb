{
 "cells": [
  {
   "cell_type": "markdown",
   "metadata": {},
   "source": [
    "#1 \n",
    "7. Reverse Integer: \n",
    "Given a signed 32-bit integer x, return x with its digits reversed. If reversing x causes the value to go outside the signed 32-bit integer range [-231, 231 - 1], then return 0.\n",
    "\n",
    "Assume the environment does not allow you to store 64-bit integers (signed or unsigned).\n",
    "\n",
    "Example 1:    Input: x = 123    Output: 321\n",
    "Example 2:    Input: x = -123   Output: -321\n",
    "Example 3:    Input: x = 120    Output: 21\n",
    "Example 4:    Input: x = 0    Output: 0"
   ]
  },
  {
   "cell_type": "code",
   "execution_count": 2,
   "metadata": {},
   "outputs": [
    {
     "name": "stdout",
     "output_type": "stream",
     "text": [
      "5\n"
     ]
    }
   ],
   "source": [
    "def addon(a,b):\n",
    "    return a+b\n",
    "print(addon(2,3))"
   ]
  },
  {
   "cell_type": "code",
   "execution_count": 3,
   "metadata": {},
   "outputs": [],
   "source": [
    "def reverse_str(x):\n",
    "        if int(x)//10 ==0:\n",
    "            return str(x)\n",
    "        else:\n",
    "            x_=str(int(x)//10)\n",
    "            y= str(int(x)%10)\n",
    "            return y+reverse_str(x_)\n",
    "        \n",
    "    "
   ]
  },
  {
   "cell_type": "code",
   "execution_count": 4,
   "metadata": {},
   "outputs": [
    {
     "name": "stdout",
     "output_type": "stream",
     "text": [
      "321\n"
     ]
    }
   ],
   "source": [
    "print(reverse_str('123'))"
   ]
  },
  {
   "cell_type": "code",
   "execution_count": 5,
   "metadata": {},
   "outputs": [],
   "source": [
    "def reverse(x):\n",
    "        if x>=0:\n",
    "            return int(reverse_str(str(x)))\n",
    "        else:\n",
    "            return -reverse(x)"
   ]
  },
  {
   "cell_type": "code",
   "execution_count": 10,
   "metadata": {},
   "outputs": [
    {
     "name": "stdout",
     "output_type": "stream",
     "text": [
      "321\n",
      "101\n",
      "1\n",
      "0\n",
      "21\n"
     ]
    }
   ],
   "source": [
    "print(reverse(123))\n",
    "print(reverse(101))\n",
    "print(reverse(100))\n",
    "print(reverse(0))\n",
    "print(reverse(120))"
   ]
  },
  {
   "cell_type": "code",
   "execution_count": null,
   "metadata": {},
   "outputs": [],
   "source": [
    "#Question: how to assess if the reverse of x going outside of the signed 32-bit integer range?"
   ]
  },
  {
   "cell_type": "markdown",
   "metadata": {},
   "source": [
    "#2 \n",
    "9. Palindrome Number\n",
    "Given an integer x, return true if x is palindrome integer.\n",
    "\n",
    "An integer is a palindrome when it reads the same backward as forward. For example, 121 is palindrome while 123 is not.\n",
    "\n",
    "Example 1:  Input: x = 121  Output: true\n",
    "Example 2:  Input: x = -121  Output: false  Explanation: From left to right, it reads -121. From right to left, it becomes 121-. Therefore it is not a palindrome.\n",
    "Example 3:  Input: x = 10  Output: false  Explanation: Reads 01 from right to left. Therefore it is not a palindrome."
   ]
  },
  {
   "cell_type": "code",
   "execution_count": 12,
   "metadata": {},
   "outputs": [],
   "source": [
    "def isPalindrome(x):\n",
    "        x_ = str(x)\n",
    "        l = len(x_)\n",
    "        for i in range(l//2):\n",
    "            if x_[i]!=x_[l-1-i]:\n",
    "                return False\n",
    "        return True\n",
    "        "
   ]
  },
  {
   "cell_type": "code",
   "execution_count": 13,
   "metadata": {},
   "outputs": [
    {
     "name": "stdout",
     "output_type": "stream",
     "text": [
      "True\n"
     ]
    }
   ],
   "source": [
    "print(isPalindrome(1234321))"
   ]
  },
  {
   "cell_type": "markdown",
   "metadata": {},
   "source": [
    "#3\n",
    "13. Roman to Integer\n",
    "Roman numerals are represented by seven different symbols: I, V, X, L, C, D and M.\n",
    "\n",
    "Symbol       Value\n",
    "I             1\n",
    "V             5\n",
    "X             10\n",
    "L             50\n",
    "C             100\n",
    "D             500\n",
    "M             1000\n",
    "For example, 2 is written as II in Roman numeral, just two one's added together. 12 is written as XII, which is simply X + II. The number 27 is written as XXVII, which is XX + V + II.\n",
    "\n",
    "Roman numerals are usually written largest to smallest from left to right. However, the numeral for four is not IIII. Instead, the number four is written as IV. Because the one is before the five we subtract it making four. The same principle applies to the number nine, which is written as IX. There are six instances where subtraction is used:\n",
    "\n",
    "I can be placed before V (5) and X (10) to make 4 and 9. \n",
    "X can be placed before L (50) and C (100) to make 40 and 90. \n",
    "C can be placed before D (500) and M (1000) to make 400 and 900.\n",
    "Given a roman numeral, convert it to an integer.\n",
    "\n"
   ]
  },
  {
   "cell_type": "code",
   "execution_count": 15,
   "metadata": {},
   "outputs": [],
   "source": [
    "def romanToInt(s):\n",
    "        roman_notes = {\n",
    "            'I':1,\n",
    "            'V':5,\n",
    "            'X':10,\n",
    "            'L':50,\n",
    "            'C':100,\n",
    "            'D':500,\n",
    "            'M':1000,\n",
    "        }\n",
    "        combinations = {\n",
    "            'I':['V','X'],\n",
    "            'X':['L','C'],\n",
    "            'C':['D','M']\n",
    "        }\n",
    "        num = 0\n",
    "        i=0\n",
    "        while i < len(s):\n",
    "            if (s[i] in combinations) and (i+1<len(s)):\n",
    "                if s[i+1] in combinations[s[i]]:\n",
    "                    num = num+roman_notes[s[i+1]]-roman_notes[s[i]]\n",
    "                    i+=1\n",
    "                else:\n",
    "                    num += roman_notes[s[i]]\n",
    "            else:\n",
    "                num += roman_notes[s[i]]\n",
    "            i+=1\n",
    "        return num"
   ]
  },
  {
   "cell_type": "code",
   "execution_count": 16,
   "metadata": {},
   "outputs": [
    {
     "name": "stdout",
     "output_type": "stream",
     "text": [
      "58\n",
      "1994\n",
      "9\n",
      "4\n"
     ]
    }
   ],
   "source": [
    "S = [\"LVIII\",\"MCMXCIV\",\"IX\",\"IV\"]\n",
    "for s in S:\n",
    "    print(romanToInt(s))\n"
   ]
  },
  {
   "cell_type": "code",
   "execution_count": 19,
   "metadata": {},
   "outputs": [
    {
     "name": "stdout",
     "output_type": "stream",
     "text": [
      "True\n"
     ]
    }
   ],
   "source": [
    "print(all(['a','b','c']))"
   ]
  },
  {
   "cell_type": "markdown",
   "metadata": {},
   "source": [
    "#4\n",
    "14. Longest Common Prefix\n",
    "Write a function to find the longest common prefix string amongst an array of strings.\n",
    "\n",
    "If there is no common prefix, return an empty string \"\"."
   ]
  },
  {
   "cell_type": "code",
   "execution_count": 20,
   "metadata": {},
   "outputs": [],
   "source": [
    "def longestCommonPrefix(strs):\n",
    "        if len(strs)==0:\n",
    "            return ''\n",
    "        else:\n",
    "            min_len = min([len(s) for s in strs])\n",
    "            common_prefix = ''\n",
    "            i=0\n",
    "            while i < min_len and all([strs[j][i]==strs[0][i] for j in range(len(strs))]):\n",
    "                common_prefix += strs[0][i]\n",
    "                i+=1\n",
    "            return common_prefix"
   ]
  },
  {
   "cell_type": "code",
   "execution_count": 21,
   "metadata": {},
   "outputs": [
    {
     "name": "stdout",
     "output_type": "stream",
     "text": [
      "fl\n",
      "\n"
     ]
    }
   ],
   "source": [
    "examples = [\n",
    "    ['flower','flow','flight'],\n",
    "    [\"dog\",\"racecar\",\"car\"]\n",
    "]\n",
    "for example in examples:\n",
    "    print(longestCommonPrefix(example))"
   ]
  },
  {
   "cell_type": "markdown",
   "metadata": {},
   "source": [
    "#5\n",
    "20. Valid Parentheses\n",
    "Given a string s containing just the characters '(', ')', '{', '}', '[' and ']', determine if the input string is valid.\n",
    "\n",
    "An input string is valid if:\n",
    "\n",
    "Open brackets must be closed by the same type of brackets.\n",
    "Open brackets must be closed in the correct order.\n"
   ]
  },
  {
   "cell_type": "code",
   "execution_count": 3,
   "metadata": {},
   "outputs": [],
   "source": [
    "def isValid(s):\n",
    "        brackets_pairs = {\n",
    "            ')':'(',\n",
    "            '}':'{',\n",
    "            ']':'['\n",
    "        }\n",
    "        i=0\n",
    "        backup = []\n",
    "        while i < len(s):\n",
    "            current = s[len(s)-1-i]\n",
    "            #print(current)\n",
    "            if current in brackets_pairs:\n",
    "                backup.append(current)\n",
    "            elif len(backup)>0 and brackets_pairs[backup[-1]]==current:\n",
    "                backup.pop()\n",
    "            else:\n",
    "                return False\n",
    "            i+=1\n",
    "        return len(backup)==0"
   ]
  },
  {
   "cell_type": "code",
   "execution_count": 4,
   "metadata": {},
   "outputs": [
    {
     "name": "stdout",
     "output_type": "stream",
     "text": [
      "[False, True, True, False]\n"
     ]
    }
   ],
   "source": [
    "test_strings = [']','[]','{[()]}()','{([)]}']\n",
    "results = [isValid(s) for s in test_strings]\n",
    "print(results)"
   ]
  },
  {
   "cell_type": "code",
   "execution_count": null,
   "metadata": {},
   "outputs": [],
   "source": []
  }
 ],
 "metadata": {
  "kernelspec": {
   "display_name": "Python 3",
   "language": "python",
   "name": "python3"
  },
  "language_info": {
   "codemirror_mode": {
    "name": "ipython",
    "version": 3
   },
   "file_extension": ".py",
   "mimetype": "text/x-python",
   "name": "python",
   "nbconvert_exporter": "python",
   "pygments_lexer": "ipython3",
   "version": "3.8.5"
  }
 },
 "nbformat": 4,
 "nbformat_minor": 4
}
