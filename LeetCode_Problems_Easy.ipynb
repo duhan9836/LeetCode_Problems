{
 "cells": [
  {
   "cell_type": "markdown",
   "metadata": {},
   "source": [
    "#1 \n",
    "7. Reverse Integer: \n",
    "Given a signed 32-bit integer x, return x with its digits reversed. If reversing x causes the value to go outside the signed 32-bit integer range [-231, 231 - 1], then return 0.\n",
    "\n",
    "Assume the environment does not allow you to store 64-bit integers (signed or unsigned).\n",
    "\n",
    "Example 1:    Input: x = 123    Output: 321\n",
    "Example 2:    Input: x = -123   Output: -321\n",
    "Example 3:    Input: x = 120    Output: 21\n",
    "Example 4:    Input: x = 0    Output: 0"
   ]
  },
  {
   "cell_type": "code",
   "execution_count": 2,
   "metadata": {},
   "outputs": [
    {
     "name": "stdout",
     "output_type": "stream",
     "text": [
      "5\n"
     ]
    }
   ],
   "source": [
    "def addon(a,b):\n",
    "    return a+b\n",
    "print(addon(2,3))"
   ]
  },
  {
   "cell_type": "code",
   "execution_count": 3,
   "metadata": {},
   "outputs": [],
   "source": [
    "def reverse_str(x):\n",
    "        if int(x)//10 ==0:\n",
    "            return str(x)\n",
    "        else:\n",
    "            x_=str(int(x)//10)\n",
    "            y= str(int(x)%10)\n",
    "            return y+reverse_str(x_)\n",
    "        \n",
    "    "
   ]
  },
  {
   "cell_type": "code",
   "execution_count": 4,
   "metadata": {},
   "outputs": [
    {
     "name": "stdout",
     "output_type": "stream",
     "text": [
      "321\n"
     ]
    }
   ],
   "source": [
    "print(reverse_str('123'))"
   ]
  },
  {
   "cell_type": "code",
   "execution_count": 5,
   "metadata": {},
   "outputs": [],
   "source": [
    "def reverse(x):\n",
    "        if x>=0:\n",
    "            return int(reverse_str(str(x)))\n",
    "        else:\n",
    "            return -reverse(x)"
   ]
  },
  {
   "cell_type": "code",
   "execution_count": 10,
   "metadata": {},
   "outputs": [
    {
     "name": "stdout",
     "output_type": "stream",
     "text": [
      "321\n",
      "101\n",
      "1\n",
      "0\n",
      "21\n"
     ]
    }
   ],
   "source": [
    "print(reverse(123))\n",
    "print(reverse(101))\n",
    "print(reverse(100))\n",
    "print(reverse(0))\n",
    "print(reverse(120))"
   ]
  },
  {
   "cell_type": "code",
   "execution_count": null,
   "metadata": {},
   "outputs": [],
   "source": [
    "#Question: how to assess if the reverse of x going outside of the signed 32-bit integer range?"
   ]
  },
  {
   "cell_type": "markdown",
   "metadata": {},
   "source": [
    "#2 \n",
    "9. Palindrome Number\n",
    "Given an integer x, return true if x is palindrome integer.\n",
    "\n",
    "An integer is a palindrome when it reads the same backward as forward. For example, 121 is palindrome while 123 is not.\n",
    "\n",
    "Example 1:  Input: x = 121  Output: true\n",
    "Example 2:  Input: x = -121  Output: false  Explanation: From left to right, it reads -121. From right to left, it becomes 121-. Therefore it is not a palindrome.\n",
    "Example 3:  Input: x = 10  Output: false  Explanation: Reads 01 from right to left. Therefore it is not a palindrome."
   ]
  },
  {
   "cell_type": "code",
   "execution_count": 12,
   "metadata": {},
   "outputs": [],
   "source": [
    "def isPalindrome(x):\n",
    "        x_ = str(x)\n",
    "        l = len(x_)\n",
    "        for i in range(l//2):\n",
    "            if x_[i]!=x_[l-1-i]:\n",
    "                return False\n",
    "        return True\n",
    "        "
   ]
  },
  {
   "cell_type": "code",
   "execution_count": 13,
   "metadata": {},
   "outputs": [
    {
     "name": "stdout",
     "output_type": "stream",
     "text": [
      "True\n"
     ]
    }
   ],
   "source": [
    "print(isPalindrome(1234321))"
   ]
  },
  {
   "cell_type": "code",
   "execution_count": null,
   "metadata": {},
   "outputs": [],
   "source": []
  }
 ],
 "metadata": {
  "kernelspec": {
   "display_name": "Python 3",
   "language": "python",
   "name": "python3"
  },
  "language_info": {
   "codemirror_mode": {
    "name": "ipython",
    "version": 3
   },
   "file_extension": ".py",
   "mimetype": "text/x-python",
   "name": "python",
   "nbconvert_exporter": "python",
   "pygments_lexer": "ipython3",
   "version": "3.8.5"
  }
 },
 "nbformat": 4,
 "nbformat_minor": 4
}
